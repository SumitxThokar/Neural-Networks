{
 "cells": [
  {
   "cell_type": "code",
   "execution_count": 1,
   "id": "05282a13",
   "metadata": {},
   "outputs": [],
   "source": [
    "# Importing necessary libraires\n",
    "import tensorflow as tf\n",
    "from tensorflow import keras"
   ]
  },
  {
   "cell_type": "code",
   "execution_count": 2,
   "id": "1c576136",
   "metadata": {},
   "outputs": [],
   "source": [
    "# Load the data\n",
    "fmist=tf.keras.datasets.fashion_mnist\n",
    "(training_images,training_labels),(test_images,test_labels)=fmist.load_data()"
   ]
  },
  {
   "cell_type": "code",
   "execution_count": 3,
   "id": "77e11737",
   "metadata": {},
   "outputs": [],
   "source": [
    "# Normalize the pixel\n",
    "training_images=training_images/255.0\n",
    "test_images=test_images/255.0"
   ]
  },
  {
   "cell_type": "code",
   "execution_count": 4,
   "id": "e841f7f2",
   "metadata": {},
   "outputs": [],
   "source": [
    "# Callback function\n",
    "class mycallback(tf.keras.callbacks.Callback):\n",
    "    def on_epoch_end(self,epoch,logs={}):\n",
    "        if (logs.get('loss')<0.22):\n",
    "            print('\\nCancelling further training as loss is lower than 0.22\\n')\n",
    "            self.model.stop_training=True\n",
    "callbacks=mycallback()"
   ]
  },
  {
   "cell_type": "code",
   "execution_count": 5,
   "id": "95b3aa09",
   "metadata": {},
   "outputs": [],
   "source": [
    "# Define the model\n",
    "model=tf.keras.Sequential([\n",
    "    # CNN and pooling layers\n",
    "    tf.keras.layers.Conv2D(64,(3,3),activation='relu',input_shape=(28,28,1)),\n",
    "    tf.keras.layers.MaxPooling2D(2,2),\n",
    "#     tf.keras.layers.Conv2D(64,(3,3),activation='relu'),\n",
    "    tf.keras.layers.MaxPooling2D(2,2),\n",
    "    \n",
    "    tf.keras.layers.Flatten(input_shape=(28,28)),\n",
    "    tf.keras.layers.Dense(512,activation='relu'),\n",
    "    tf.keras.layers.Dense(10,activation='softmax')\n",
    "])"
   ]
  },
  {
   "cell_type": "code",
   "execution_count": 6,
   "id": "7d505b45",
   "metadata": {},
   "outputs": [
    {
     "name": "stdout",
     "output_type": "stream",
     "text": [
      "Model: \"sequential\"\n",
      "_________________________________________________________________\n",
      " Layer (type)                Output Shape              Param #   \n",
      "=================================================================\n",
      " conv2d (Conv2D)             (None, 26, 26, 64)        640       \n",
      "                                                                 \n",
      " max_pooling2d (MaxPooling2D  (None, 13, 13, 64)       0         \n",
      " )                                                               \n",
      "                                                                 \n",
      " max_pooling2d_1 (MaxPooling  (None, 6, 6, 64)         0         \n",
      " 2D)                                                             \n",
      "                                                                 \n",
      " flatten (Flatten)           (None, 2304)              0         \n",
      "                                                                 \n",
      " dense (Dense)               (None, 512)               1180160   \n",
      "                                                                 \n",
      " dense_1 (Dense)             (None, 10)                5130      \n",
      "                                                                 \n",
      "=================================================================\n",
      "Total params: 1,185,930\n",
      "Trainable params: 1,185,930\n",
      "Non-trainable params: 0\n",
      "_________________________________________________________________\n"
     ]
    }
   ],
   "source": [
    "# Print the model summary\n",
    "model.summary()"
   ]
  },
  {
   "cell_type": "code",
   "execution_count": 7,
   "id": "f4d8363c",
   "metadata": {},
   "outputs": [],
   "source": [
    "# Compile the model\n",
    "model.compile(optimizer='adam',loss='sparse_categorical_crossentropy',metrics=['accuracy'])"
   ]
  },
  {
   "cell_type": "code",
   "execution_count": 8,
   "id": "3c7d4d0c",
   "metadata": {},
   "outputs": [
    {
     "name": "stdout",
     "output_type": "stream",
     "text": [
      "Epoch 1/6\n",
      "1875/1875 [==============================] - 35s 19ms/step - loss: 0.4211 - accuracy: 0.8484\n",
      "Epoch 2/6\n",
      "1875/1875 [==============================] - 35s 19ms/step - loss: 0.2979 - accuracy: 0.8906\n",
      "Epoch 3/6\n",
      "1875/1875 [==============================] - 35s 19ms/step - loss: 0.2556 - accuracy: 0.9043\n",
      "Epoch 4/6\n",
      "1875/1875 [==============================] - 35s 19ms/step - loss: 0.2243 - accuracy: 0.9155\n",
      "Epoch 5/6\n",
      "1875/1875 [==============================] - ETA: 0s - loss: 0.2008 - accuracy: 0.9243\n",
      "Cancelling further training as loss is lower than 0.22\n",
      "\n",
      "1875/1875 [==============================] - 35s 19ms/step - loss: 0.2008 - accuracy: 0.9243\n"
     ]
    },
    {
     "data": {
      "text/plain": [
       "<keras.callbacks.History at 0x1c444e127d0>"
      ]
     },
     "execution_count": 8,
     "metadata": {},
     "output_type": "execute_result"
    }
   ],
   "source": [
    "# Train the model\n",
    "model.fit(training_images,training_labels,epochs=6,callbacks=[callbacks])"
   ]
  },
  {
   "cell_type": "code",
   "execution_count": 9,
   "id": "b4a8da50",
   "metadata": {},
   "outputs": [
    {
     "name": "stdout",
     "output_type": "stream",
     "text": [
      "313/313 [==============================] - 1s 4ms/step - loss: 0.2841 - accuracy: 0.8973\n"
     ]
    },
    {
     "data": {
      "text/plain": [
       "[0.2841004729270935, 0.8973000049591064]"
      ]
     },
     "execution_count": 9,
     "metadata": {},
     "output_type": "execute_result"
    }
   ],
   "source": [
    "model.evaluate(test_images,test_labels)"
   ]
  },
  {
   "cell_type": "code",
   "execution_count": null,
   "id": "b6af780f",
   "metadata": {},
   "outputs": [],
   "source": []
  }
 ],
 "metadata": {
  "kernelspec": {
   "display_name": "Python 3 (ipykernel)",
   "language": "python",
   "name": "python3"
  },
  "language_info": {
   "codemirror_mode": {
    "name": "ipython",
    "version": 3
   },
   "file_extension": ".py",
   "mimetype": "text/x-python",
   "name": "python",
   "nbconvert_exporter": "python",
   "pygments_lexer": "ipython3",
   "version": "3.10.4"
  }
 },
 "nbformat": 4,
 "nbformat_minor": 5
}
