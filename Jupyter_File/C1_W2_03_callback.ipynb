{
 "cells": [
  {
   "cell_type": "markdown",
   "id": "fc5595ac",
   "metadata": {},
   "source": [
    "# Using callbacks to control training."
   ]
  },
  {
   "cell_type": "code",
   "execution_count": 1,
   "id": "065be8d4",
   "metadata": {},
   "outputs": [],
   "source": [
    "# Importing necessary modules\n",
    "import tensorflow as tf\n",
    "from tensorflow import keras"
   ]
  },
  {
   "cell_type": "code",
   "execution_count": 2,
   "id": "5a957e5a",
   "metadata": {},
   "outputs": [],
   "source": [
    "# Importing fashion_MNIST data\n",
    "fmnist=tf.keras.datasets.fashion_mnist"
   ]
  },
  {
   "cell_type": "code",
   "execution_count": 3,
   "id": "89b4df39",
   "metadata": {},
   "outputs": [],
   "source": [
    "# Load the data\n",
    "(x_train,y_train),(x_test,y_test)=fmnist.load_data()"
   ]
  },
  {
   "cell_type": "code",
   "execution_count": 4,
   "id": "07ea96e3",
   "metadata": {},
   "outputs": [],
   "source": [
    "# Normalize the pixel values\n",
    "x_train,x_test=x_train/255.0,x_test/255.0"
   ]
  },
  {
   "cell_type": "code",
   "execution_count": 5,
   "id": "78a7f5e8",
   "metadata": {},
   "outputs": [],
   "source": [
    "# Creating callback class\n",
    "class mycallbacks(tf.keras.callbacks.Callback):\n",
    "    def on_epoch_end(self,epoch,logs={}):\n",
    "        if(logs.get('loss')<0.3):\n",
    "            print('Loss is lower than 0.3 so cancelling training!')\n",
    "            self.model.stop_training=True\n",
    "callbacks=mycallbacks()"
   ]
  },
  {
   "cell_type": "code",
   "execution_count": 6,
   "id": "75d46d6f",
   "metadata": {},
   "outputs": [],
   "source": [
    "# Define the model.\n",
    "model=tf.keras.models.Sequential([\n",
    "    tf.keras.layers.Flatten(input_shape=(28,28)),\n",
    "    tf.keras.layers.Dense(512,activation=tf.nn.relu),\n",
    "    tf.keras.layers.Dense(10,activation=tf.nn.softmax),\n",
    "])"
   ]
  },
  {
   "cell_type": "code",
   "execution_count": 7,
   "id": "d05a7531",
   "metadata": {},
   "outputs": [],
   "source": [
    "# Compile the model.\n",
    "model.compile(optimizer=tf.optimizers.Adam(),loss='sparse_categorical_crossentropy',metrics=['accuracy'])"
   ]
  },
  {
   "cell_type": "code",
   "execution_count": 8,
   "id": "dedb4642",
   "metadata": {},
   "outputs": [
    {
     "name": "stdout",
     "output_type": "stream",
     "text": [
      "Epoch 1/10\n",
      "1875/1875 [==============================] - 16s 8ms/step - loss: 0.4727 - accuracy: 0.8327\n",
      "Epoch 2/10\n",
      "1875/1875 [==============================] - 16s 9ms/step - loss: 0.3600 - accuracy: 0.8691\n",
      "Epoch 3/10\n",
      "1875/1875 [==============================] - 15s 8ms/step - loss: 0.3250 - accuracy: 0.8805\n",
      "Epoch 4/10\n",
      "1873/1875 [============================>.] - ETA: 0s - loss: 0.2994 - accuracy: 0.8897Loss is lower than 0.3 so cancelling training!\n",
      "1875/1875 [==============================] - 15s 8ms/step - loss: 0.2994 - accuracy: 0.8896\n"
     ]
    },
    {
     "data": {
      "text/plain": [
       "<keras.callbacks.History at 0x16236384eb0>"
      ]
     },
     "execution_count": 8,
     "metadata": {},
     "output_type": "execute_result"
    }
   ],
   "source": [
    "#Train the model\n",
    "model.fit(x_train,y_train,epochs=10,callbacks=[callbacks])"
   ]
  },
  {
   "cell_type": "code",
   "execution_count": null,
   "id": "6e5a2d72",
   "metadata": {},
   "outputs": [],
   "source": []
  }
 ],
 "metadata": {
  "kernelspec": {
   "display_name": "Python 3 (ipykernel)",
   "language": "python",
   "name": "python3"
  },
  "language_info": {
   "codemirror_mode": {
    "name": "ipython",
    "version": 3
   },
   "file_extension": ".py",
   "mimetype": "text/x-python",
   "name": "python",
   "nbconvert_exporter": "python",
   "pygments_lexer": "ipython3",
   "version": "3.10.4"
  }
 },
 "nbformat": 4,
 "nbformat_minor": 5
}
